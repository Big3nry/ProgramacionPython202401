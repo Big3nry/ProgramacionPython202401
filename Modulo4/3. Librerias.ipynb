{
 "cells": [
  {
   "cell_type": "markdown",
   "metadata": {
    "tags": []
   },
   "source": [
    "# Trabajando con Librerias en Python\n",
    "----------------------------------------------------"
   ]
  },
  {
   "cell_type": "markdown",
   "metadata": {},
   "source": [
    "En esta sección nos centraremos en conocer algunas de las librerias básicas de python asi como emplear librerias externas."
   ]
  },
  {
   "cell_type": "markdown",
   "metadata": {},
   "source": [
    "## 1. Libreria Datetime\n",
    "-----------------------------\n",
    "\n",
    "Este módulo contiene funcionalidades que nos serán utiles para trabajar con tipos de datos fecha\n",
    "\n",
    "Puede ver más ejemplos en el siguiente [link](https://docs.hektorprofe.net/python/modulos-y-paquetes/modulo-datetime/)"
   ]
  },
  {
   "cell_type": "code",
   "execution_count": null,
   "metadata": {},
   "outputs": [],
   "source": [
    "from datetime import datetime\n",
    "\n",
    "dt = datetime.now()    # Fecha y hora actual\n",
    "\n",
    "print(dt)\n",
    "print(dt.year)         # año\n",
    "print(dt.month)        # mes\n",
    "print(dt.day)          # día\n",
    "\n",
    "print(dt.hour)         # hora\n",
    "print(dt.minute)       # minutos\n",
    "print(dt.second)       # segundos\n",
    "\n",
    "print(dt.microsecond)  # microsegundos\n",
    "\n",
    "print(\"{}:{}:{}\".format(dt.hour, dt.minute, dt.second))\n",
    "print(\"{}/{}/{}\".format(dt.day, dt.month, dt.year))"
   ]
  },
  {
   "cell_type": "code",
   "execution_count": null,
   "metadata": {},
   "outputs": [],
   "source": [
    "# Con esta libreria tambien es posible crear un tipo de dato fecha a partir de los valores de año, mes, dia\n",
    "from datetime import datetime, date\n",
    "\n",
    "dt = datetime(2000,1,1)\n",
    "\n",
    "date_ = date(2000,1,1)\n",
    "\n",
    "print(dt)\n",
    "\n",
    "print(date_)"
   ]
  },
  {
   "cell_type": "markdown",
   "metadata": {},
   "source": [
    "Es posible agregar la zona horaria a nuestra fecha. Para ello debemos emplear la libreria\n",
    "\n",
    "<code>pip install pytz</code>"
   ]
  },
  {
   "cell_type": "code",
   "execution_count": null,
   "metadata": {},
   "outputs": [],
   "source": [
    "!pip install numpy"
   ]
  },
  {
   "cell_type": "code",
   "execution_count": null,
   "metadata": {},
   "outputs": [],
   "source": [
    "import pytz\n",
    "print(pytz.all_timezones)"
   ]
  },
  {
   "cell_type": "code",
   "execution_count": null,
   "metadata": {},
   "outputs": [],
   "source": [
    "import numpy as np\n"
   ]
  },
  {
   "cell_type": "code",
   "execution_count": null,
   "metadata": {},
   "outputs": [],
   "source": [
    "dt = datetime.now(pytz.timezone('America/Lima'))\n",
    "print(dt.strftime(\"%A %d de %B del %Y - %H:%M\"))  # %I 12h - %H 24h"
   ]
  },
  {
   "cell_type": "code",
   "execution_count": null,
   "metadata": {},
   "outputs": [],
   "source": [
    "a = np.arange(6)\n",
    "a2 = a[np.newaxis, :]\n",
    "a2.shape\n",
    "print(a)"
   ]
  },
  {
   "cell_type": "code",
   "execution_count": null,
   "metadata": {},
   "outputs": [],
   "source": [
    "print(dt.strftime(\"%y-%m-%d\"))"
   ]
  },
  {
   "cell_type": "markdown",
   "metadata": {
    "tags": []
   },
   "source": [
    "## 2. Manipulación de Sistema\n",
    "---------------------------"
   ]
  },
  {
   "cell_type": "markdown",
   "metadata": {},
   "source": [
    "El módulo <code>os</code> nos permite tener un control sobre normbre de archivos y directorios del sistema operativo.\n"
   ]
  },
  {
   "cell_type": "code",
   "execution_count": 1,
   "metadata": {},
   "outputs": [],
   "source": [
    "import os       # Nos permite manipular el sistema operativo\n",
    "import shutil   # Nos permite copiar y mover archivos"
   ]
  },
  {
   "cell_type": "code",
   "execution_count": 2,
   "metadata": {},
   "outputs": [
    {
     "name": "stdout",
     "output_type": "stream",
     "text": [
      "/workspaces/ProgramacionPython202401/Modulo4\n"
     ]
    }
   ],
   "source": [
    "# Ruta de Trabajo actual : Es aquella donde realizamos el trabajo actual\n",
    "\n",
    "print( os.getcwd() )"
   ]
  },
  {
   "cell_type": "markdown",
   "metadata": {},
   "source": [
    "### Rutas Absolutas y Rutas Relativas\n",
    "\n",
    "- Ruta Absoluta: Aquella que inicia desde el directorio raiz\n",
    "- Ruta Relativa: Hace referencia a la posición relativa del directorio de trabajo actual\n"
   ]
  },
  {
   "cell_type": "markdown",
   "metadata": {},
   "source": [
    "<img src=\"./img/automating/relative_absolute_path.jpg\">"
   ]
  },
  {
   "cell_type": "code",
   "execution_count": null,
   "metadata": {},
   "outputs": [],
   "source": [
    "# obteniendo ruta absoluta de ruta\n",
    "os.path.abspath('./img')"
   ]
  },
  {
   "cell_type": "code",
   "execution_count": null,
   "metadata": {},
   "outputs": [],
   "source": [
    "# '.' referencia a directorio actual\n",
    "'./scripts'\n",
    "\n",
    "# '..' retrocedo una carpeta y busco la carpeta 'modulo2'\n",
    "'../modulo2'"
   ]
  },
  {
   "cell_type": "markdown",
   "metadata": {},
   "source": [
    "### Validando Existencia de Directorio o File"
   ]
  },
  {
   "cell_type": "code",
   "execution_count": 3,
   "metadata": {},
   "outputs": [
    {
     "name": "stdout",
     "output_type": "stream",
     "text": [
      "False\n",
      "False\n",
      "True\n",
      "False\n"
     ]
    }
   ],
   "source": [
    "# Validando existencia de directorio\n",
    "\n",
    "print( os.path.exists('C:\\\\Windows') )\n",
    "\n",
    "# Comprobando si ruta es directorio\n",
    "print( os.path.isdir('C:\\\\Windows\\\\System32') )\n",
    "\n",
    "print( os.path.isdir('./scripts') )\n",
    "\n",
    "# Comprobando si ruta es file\n",
    "print( os.path.isfile('./texto.txt'))"
   ]
  },
  {
   "cell_type": "markdown",
   "metadata": {},
   "source": [
    "### Otros Métodos de OS"
   ]
  },
  {
   "cell_type": "code",
   "execution_count": null,
   "metadata": {},
   "outputs": [],
   "source": [
    "# Lista elementos del directorio\n",
    "os.listdir('./Ejercicios')\n",
    "\n",
    "# print(os.listdir())"
   ]
  },
  {
   "cell_type": "code",
   "execution_count": null,
   "metadata": {},
   "outputs": [],
   "source": [
    "# chdir -> cambiar la posición sobre la que se encuentra python\n",
    "print( os.getcwd() )\n",
    "os.chdir('./src/demos_files')\n",
    "\n",
    "print(os.getcwd())"
   ]
  },
  {
   "cell_type": "markdown",
   "metadata": {
    "tags": []
   },
   "source": [
    "### Métodos de Copiado de Archivos (shutil)"
   ]
  },
  {
   "cell_type": "code",
   "execution_count": null,
   "metadata": {},
   "outputs": [],
   "source": [
    "# if not os.path.isdir('./scripts'): \n",
    "#     os.mkdir('./scripts') # mkdir -> crea una carpeta en una ruta dada\n",
    "#     os.mkdir('./scripts/2.demos_files')\n",
    "    "
   ]
  },
  {
   "cell_type": "code",
   "execution_count": 5,
   "metadata": {},
   "outputs": [
    {
     "data": {
      "text/plain": [
       "'./escritura_copy.txt'"
      ]
     },
     "execution_count": 5,
     "metadata": {},
     "output_type": "execute_result"
    }
   ],
   "source": [
    "# Copiando archivos de un directorio a una partera\n",
    "shutil.copy(r'../escritura.txt', r'./escritura.txt')\n",
    "\n",
    "shutil.copy(r'../escritura.txt', r'./escritura_copy.txt')\n",
    "\n",
    "# mover y cambiar nombre a un fichero\n",
    "# shutil.move('../nuevo_fichero.txt', './nuevo_fichero_movido.txt')"
   ]
  },
  {
   "cell_type": "code",
   "execution_count": 6,
   "metadata": {},
   "outputs": [
    {
     "data": {
      "text/plain": [
       "['demos_files',\n",
       " 'nuevo_fichero.txt',\n",
       " 'escritura.txt',\n",
       " 'dog_breeds.txt',\n",
       " 'fichero_esp.txt',\n",
       " 'personas.txt',\n",
       " 'nuevo_ficheropersonas.txt',\n",
       " 'texto_generado.txt']"
      ]
     },
     "execution_count": 6,
     "metadata": {},
     "output_type": "execute_result"
    }
   ],
   "source": [
    "os.listdir('./src')"
   ]
  },
  {
   "cell_type": "code",
   "execution_count": null,
   "metadata": {},
   "outputs": [],
   "source": [
    "for file in os.listdir('./src'):\n",
    "    # valido que sea archivo y termine en extensión .txt\n",
    "    if os.path.isfile(f'./src/{file}') and file.endswith('.txt'):\n",
    "        file_name, ext = file.split('.')\n",
    "        shutil.copy(f'./src/{file}', f'./dts/{file_name}_copy.{ext}')"
   ]
  },
  {
   "cell_type": "markdown",
   "metadata": {},
   "source": [
    "### Trabajando con archivos zipeados\n",
    "\n",
    "En esta sección aprenderemos a manipular archivos zipeados con python"
   ]
  },
  {
   "cell_type": "code",
   "execution_count": 9,
   "metadata": {},
   "outputs": [
    {
     "data": {
      "text/plain": [
       "['demos_files',\n",
       " 'nuevo_fichero.txt',\n",
       " 'escritura.txt',\n",
       " 'dog_breeds.txt',\n",
       " 'fichero_esp.txt',\n",
       " 'personas.txt',\n",
       " 'nuevo_ficheropersonas.txt',\n",
       " 'texto_generado.txt']"
      ]
     },
     "execution_count": 9,
     "metadata": {},
     "output_type": "execute_result"
    }
   ],
   "source": [
    "import os\n",
    "import zipfile\n",
    "\n",
    "# creando un archivo zipeado\n",
    "directory = '/workspaces/ProgramacionPython202401/Modulo4/src'\n",
    "files = os.listdir(directory)\n",
    "files"
   ]
  },
  {
   "cell_type": "code",
   "execution_count": 10,
   "metadata": {},
   "outputs": [],
   "source": [
    "# Creo un archivo zipeado llamado archivo.zip\n",
    "with zipfile.ZipFile('archivos.zip', 'w') as zip:\n",
    "    # para cada archivo genero la ruta donde se encuentra\n",
    "    for file in files:\n",
    "        file_path = os.path.join(directory, file)\n",
    "\n",
    "        # Añado unicamente los archivos dentro de la carpeta Modulo4/src\n",
    "        if os.path.isfile(file_path):\n",
    "            # añado al zipeado mi archivo\n",
    "            zip.write(file_path\n",
    "                      ,  os.path.basename(file_path) # para evitar subcarpetas\n",
    "                      )"
   ]
  },
  {
   "cell_type": "code",
   "execution_count": 11,
   "metadata": {},
   "outputs": [],
   "source": [
    "import zipfile\n",
    "\n",
    "if not os.path.isdir('./unzip'): \n",
    "    os.mkdir('./unzip') \n",
    "\n",
    "\n",
    "# extración de archivos\n",
    "with zipfile.ZipFile('./src/demos_files/archivos.zip', 'r') as zip_ref:\n",
    "    zip_ref.extractall(path='./unzip')"
   ]
  },
  {
   "cell_type": "code",
   "execution_count": 15,
   "metadata": {},
   "outputs": [],
   "source": [
    "# del modulo4, zipea los archivo de tipo txt, sin buscar en las subcarpetas\n",
    "\n",
    "import os\n",
    "import zipfile\n",
    "\n",
    "with zipfile.ZipFile('archivos.zip', 'w') as zip:\n",
    "\n",
    "    for file in os.listdir('.'):\n",
    "        file_path = os.path.join(os.getcwd(), file)\n",
    "\n",
    "        if file.endswith('.txt'):    \n",
    "            zip.write(file_path\n",
    "                      ,  os.path.basename(file_path) # para evitar subcarpetas\n",
    "                      )"
   ]
  },
  {
   "cell_type": "markdown",
   "metadata": {},
   "source": [
    "## 3. Manipulando Elementos Web\n",
    "----------------------\n",
    "\n",
    "**Requests es una librería Python que facilita enormemente el trabajo con peticiones HTTP**. Antes o después, en algún proyecto, es posible que tengas que hacer peticiones web, ya sea para consumir un API, extraer información de una página o enviar el contenido de un formulario de manera automatizada. Si es así, Python requests es tu gran aliada."
   ]
  },
  {
   "cell_type": "markdown",
   "metadata": {},
   "source": [
    "<center>\n",
    "    <img src='./img/automating/web.png' width=\"500\" height=\"600\">\n",
    "</center>"
   ]
  },
  {
   "cell_type": "code",
   "execution_count": null,
   "metadata": {},
   "outputs": [],
   "source": [
    "# instalando libreria\n",
    "!pip install lxml "
   ]
  },
  {
   "cell_type": "markdown",
   "metadata": {
    "tags": []
   },
   "source": [
    "### 3.1 Introducción al uso de APIs\n",
    "\n",
    "- Muchos sitios web, generan sus propias APIs a manera de facilitar la comunicación con diversos sistemas de información\n",
    "- A diferencia del web scraping convencional, las APIs son mucho más faciles de utilizar\n",
    "- Comunmente se utilizá el formato JSON como formato de intercambio de datos\n",
    "\n",
    "\n",
    "\n",
    "<center>\n",
    "\n",
    "  <img src='https://encrypted-tbn0.gstatic.com/images?q=tbn:ANd9GcSwTt3CMQQ7JigO6qys2jwVBEToNZahbZL5AA&usqp=CAU' width=\"500\" height=\"600\">\n",
    "\n",
    "</center>\n",
    "\n",
    "Links Referencia\n",
    "-----------------------\n",
    "\n",
    "- [Video Introductorio APIS](https://www.youtube.com/watch?v=sB6Vc3gze3w)\n",
    "- [Qué son las APIS? ](https://developer.mozilla.org/es/docs/Learn/JavaScript/Client-side_web_APIs/Introduction)\n"
   ]
  },
  {
   "cell_type": "markdown",
   "metadata": {},
   "source": [
    "#### Json\n",
    "\n",
    "JSON (JavaScript Object Notation) es un formato ligero de intercambio de datos. JSON es de fácil lectura y escritura para los usuarios\n",
    "\n",
    "- Parecido a un diccionario\n",
    "- Es usualmente el formato empleado como obtendremos la información del sitio web\n",
    "\n",
    "<img src='https://addons.mozilla.org/user-media/previews/full/29/29967.png?modified=1622132517'>\n"
   ]
  },
  {
   "cell_type": "markdown",
   "metadata": {},
   "source": [
    "#### **Ejemplo1**\n",
    "\n",
    "Emplearemos el API de tipo de cambio SUNAT para obtener estos datos de \n",
    "forma directa en lugar de dirigirnos al sitio web SUNAT para obtener estos valores. \n",
    "\n",
    "(Sitio Oficial Sunat: https://e-consulta.sunat.gob.pe/cl-at-ittipcam/tcS01Alias)\n",
    "\n",
    "\n",
    "Muchas apis cuentan con documentación de uso.\n",
    "Para este ejemplo debemos darle una mirada al sitio web\n",
    "\n",
    "- https://apis.net.pe/api-tipo-cambio.html"
   ]
  },
  {
   "cell_type": "code",
   "execution_count": 16,
   "metadata": {},
   "outputs": [
    {
     "data": {
      "text/plain": [
       "{'compra': 3.86,\n",
       " 'venta': 3.868,\n",
       " 'origen': 'SUNAT',\n",
       " 'moneda': 'USD',\n",
       " 'fecha': '2024-02-11'}"
      ]
     },
     "execution_count": 16,
     "metadata": {},
     "output_type": "execute_result"
    }
   ],
   "source": [
    "## Obteniendo los valores del json \n",
    "import requests\n",
    "url=\"https://api.apis.net.pe/v1/tipo-cambio-sunat\"\n",
    "response=requests.get(url)\n",
    "\n",
    "# 2. Recupero la informacion como json\n",
    "data = response.json()\n",
    "\n",
    "data"
   ]
  },
  {
   "cell_type": "code",
   "execution_count": 17,
   "metadata": {},
   "outputs": [
    {
     "name": "stdout",
     "output_type": "stream",
     "text": [
      "38.6\n",
      "38.68\n"
     ]
    }
   ],
   "source": [
    "# 3. Recupero valor tipo cambio - compra - venta\n",
    "dolar_compra = data['compra']\n",
    "dolar_venta = data['venta']\n",
    "\n",
    "print(dolar_compra * 10) # costo compra dolar\n",
    "print(dolar_venta * 10) # costo venta dolar"
   ]
  },
  {
   "cell_type": "code",
   "execution_count": 18,
   "metadata": {},
   "outputs": [
    {
     "data": {
      "text/plain": [
       "[{'compra': 3.705,\n",
       "  'venta': 3.713,\n",
       "  'origen': 'SUNAT',\n",
       "  'moneda': 'USD',\n",
       "  'fecha': '2024-01-01'},\n",
       " {'compra': 3.705,\n",
       "  'venta': 3.713,\n",
       "  'origen': 'SUNAT',\n",
       "  'moneda': 'USD',\n",
       "  'fecha': '2024-01-02'},\n",
       " {'compra': 3.705,\n",
       "  'venta': 3.713,\n",
       "  'origen': 'SUNAT',\n",
       "  'moneda': 'USD',\n",
       "  'fecha': '2024-01-03'},\n",
       " {'compra': 3.726,\n",
       "  'venta': 3.738,\n",
       "  'origen': 'SUNAT',\n",
       "  'moneda': 'USD',\n",
       "  'fecha': '2024-01-04'},\n",
       " {'compra': 3.736,\n",
       "  'venta': 3.74,\n",
       "  'origen': 'SUNAT',\n",
       "  'moneda': 'USD',\n",
       "  'fecha': '2024-01-05'},\n",
       " {'compra': 3.713,\n",
       "  'venta': 3.723,\n",
       "  'origen': 'SUNAT',\n",
       "  'moneda': 'USD',\n",
       "  'fecha': '2024-01-06'},\n",
       " {'compra': 3.713,\n",
       "  'venta': 3.723,\n",
       "  'origen': 'SUNAT',\n",
       "  'moneda': 'USD',\n",
       "  'fecha': '2024-01-07'},\n",
       " {'compra': 3.713,\n",
       "  'venta': 3.723,\n",
       "  'origen': 'SUNAT',\n",
       "  'moneda': 'USD',\n",
       "  'fecha': '2024-01-08'},\n",
       " {'compra': 3.71,\n",
       "  'venta': 3.719,\n",
       "  'origen': 'SUNAT',\n",
       "  'moneda': 'USD',\n",
       "  'fecha': '2024-01-09'},\n",
       " {'compra': 3.703,\n",
       "  'venta': 3.708,\n",
       "  'origen': 'SUNAT',\n",
       "  'moneda': 'USD',\n",
       "  'fecha': '2024-01-10'},\n",
       " {'compra': 3.698,\n",
       "  'venta': 3.704,\n",
       "  'origen': 'SUNAT',\n",
       "  'moneda': 'USD',\n",
       "  'fecha': '2024-01-11'},\n",
       " {'compra': 3.697,\n",
       "  'venta': 3.703,\n",
       "  'origen': 'SUNAT',\n",
       "  'moneda': 'USD',\n",
       "  'fecha': '2024-01-12'},\n",
       " {'compra': 3.69,\n",
       "  'venta': 3.696,\n",
       "  'origen': 'SUNAT',\n",
       "  'moneda': 'USD',\n",
       "  'fecha': '2024-01-13'},\n",
       " {'compra': 3.69,\n",
       "  'venta': 3.696,\n",
       "  'origen': 'SUNAT',\n",
       "  'moneda': 'USD',\n",
       "  'fecha': '2024-01-14'},\n",
       " {'compra': 3.69,\n",
       "  'venta': 3.696,\n",
       "  'origen': 'SUNAT',\n",
       "  'moneda': 'USD',\n",
       "  'fecha': '2024-01-15'},\n",
       " {'compra': 3.687,\n",
       "  'venta': 3.704,\n",
       "  'origen': 'SUNAT',\n",
       "  'moneda': 'USD',\n",
       "  'fecha': '2024-01-16'},\n",
       " {'compra': 3.713,\n",
       "  'venta': 3.718,\n",
       "  'origen': 'SUNAT',\n",
       "  'moneda': 'USD',\n",
       "  'fecha': '2024-01-17'},\n",
       " {'compra': 3.733,\n",
       "  'venta': 3.739,\n",
       "  'origen': 'SUNAT',\n",
       "  'moneda': 'USD',\n",
       "  'fecha': '2024-01-18'},\n",
       " {'compra': 3.736,\n",
       "  'venta': 3.742,\n",
       "  'origen': 'SUNAT',\n",
       "  'moneda': 'USD',\n",
       "  'fecha': '2024-01-19'},\n",
       " {'compra': 3.736,\n",
       "  'venta': 3.743,\n",
       "  'origen': 'SUNAT',\n",
       "  'moneda': 'USD',\n",
       "  'fecha': '2024-01-20'},\n",
       " {'compra': 3.736,\n",
       "  'venta': 3.743,\n",
       "  'origen': 'SUNAT',\n",
       "  'moneda': 'USD',\n",
       "  'fecha': '2024-01-21'},\n",
       " {'compra': 3.736,\n",
       "  'venta': 3.743,\n",
       "  'origen': 'SUNAT',\n",
       "  'moneda': 'USD',\n",
       "  'fecha': '2024-01-22'},\n",
       " {'compra': 3.736,\n",
       "  'venta': 3.746,\n",
       "  'origen': 'SUNAT',\n",
       "  'moneda': 'USD',\n",
       "  'fecha': '2024-01-23'},\n",
       " {'compra': 3.75,\n",
       "  'venta': 3.755,\n",
       "  'origen': 'SUNAT',\n",
       "  'moneda': 'USD',\n",
       "  'fecha': '2024-01-24'},\n",
       " {'compra': 3.755,\n",
       "  'venta': 3.76,\n",
       "  'origen': 'SUNAT',\n",
       "  'moneda': 'USD',\n",
       "  'fecha': '2024-01-25'},\n",
       " {'compra': 3.757,\n",
       "  'venta': 3.765,\n",
       "  'origen': 'SUNAT',\n",
       "  'moneda': 'USD',\n",
       "  'fecha': '2024-01-26'},\n",
       " {'compra': 3.777,\n",
       "  'venta': 3.786,\n",
       "  'origen': 'SUNAT',\n",
       "  'moneda': 'USD',\n",
       "  'fecha': '2024-01-27'},\n",
       " {'compra': 3.777,\n",
       "  'venta': 3.786,\n",
       "  'origen': 'SUNAT',\n",
       "  'moneda': 'USD',\n",
       "  'fecha': '2024-01-28'},\n",
       " {'compra': 3.777,\n",
       "  'venta': 3.786,\n",
       "  'origen': 'SUNAT',\n",
       "  'moneda': 'USD',\n",
       "  'fecha': '2024-01-29'},\n",
       " {'compra': 3.797,\n",
       "  'venta': 3.807,\n",
       "  'origen': 'SUNAT',\n",
       "  'moneda': 'USD',\n",
       "  'fecha': '2024-01-30'},\n",
       " {'compra': 3.806,\n",
       "  'venta': 3.813,\n",
       "  'origen': 'SUNAT',\n",
       "  'moneda': 'USD',\n",
       "  'fecha': '2024-01-31'}]"
      ]
     },
     "execution_count": 18,
     "metadata": {},
     "output_type": "execute_result"
    }
   ],
   "source": [
    "## Obteniendo los valores del json \n",
    "import requests\n",
    "url='https://api.apis.net.pe/v1/tipo-cambio-sunat?month=1&year=2024'\n",
    "response=requests.get(url)\n",
    "\n",
    "# 2. Recupero la informacion como json\n",
    "data = response.json()\n",
    "\n",
    "data"
   ]
  },
  {
   "cell_type": "markdown",
   "metadata": {},
   "source": [
    "#### Ejercicio:\n",
    "\n",
    "Emplearemos el api Pokemons para obtener datos interesantes de nuestro pokemon favorito. \n",
    "\n",
    "Ingrese al siguiente link https://pokeapi.co/ y realice la busqueda del pokemon pikachu trayendo algunos de sus datos\n"
   ]
  },
  {
   "cell_type": "code",
   "execution_count": null,
   "metadata": {},
   "outputs": [],
   "source": []
  },
  {
   "cell_type": "markdown",
   "metadata": {},
   "source": [
    "#### 3.2 Descarga de Archivos Web\n",
    "\n",
    "Los archivos como imagenes o documentos publicados en sitios web es posible descargarlos mediante la libreria Requests"
   ]
  },
  {
   "cell_type": "code",
   "execution_count": 19,
   "metadata": {},
   "outputs": [],
   "source": [
    "# Ejemplo\n",
    "#-------------------\n",
    "\n",
    "\"\"\"\n",
    "Imaginemos que quisieramos obtener una imagen situada en el siguiente sitio web.\n",
    "\n",
    "https://es.wikipedia.org/wiki/Canis_familiaris\n",
    "\"\"\"\n",
    "import requests\n",
    "\n",
    "# os.chdir('/workspaces/ProgramacionPython/Modulo4')\n",
    "\n",
    "# para descargar algo de un sitio, necesito la url del elemento a descargar\n",
    "url = 'https://es.wikipedia.org/wiki/Canis_familiaris#/media/Archivo:Coat_types_3.jpg'\n",
    "# Algunos sitios tienen restricciones de descarga para bots\n",
    "# debemos emplear user agents para simular que es una persona la que hace la busqueda\n",
    "headers = {'User-Agent': 'Mozilla/5.0 (Windows NT 10.0; Win64; x64) AppleWebKit/537.36 (KHTML, like Gecko) Chrome/117.0.0.0 Safari/537.36'}\n",
    "\n",
    "response = requests.get(url, headers=headers)\n",
    "\n",
    "with open('perro.jpg', 'wb') as f:\n",
    "    f.write(response.content)\n",
    "    pass"
   ]
  },
  {
   "cell_type": "code",
   "execution_count": 21,
   "metadata": {},
   "outputs": [],
   "source": [
    "import requests\n",
    "import os\n",
    "\n",
    "\n",
    "url = 'https://www.sunat.gob.pe/descargaPRR/padron_reducido_local_anexo.zip'\n",
    "\n",
    "response = requests.get(url)\n",
    "with open('padron_reducido_local_anexo.zip', 'wb') as f:\n",
    "    f.write(response.content)\n",
    "    pass\n"
   ]
  },
  {
   "cell_type": "markdown",
   "metadata": {},
   "source": [
    "Lectura Adicional: https://realpython.com/python-download-file-from-url/"
   ]
  }
 ],
 "metadata": {
  "interpreter": {
   "hash": "60ed20e32fccb190e74c562e5b1355c75b8bbe60ad6a5cbb503de8aaff5a83ef"
  },
  "kernelspec": {
   "display_name": "Python 3 (ipykernel)",
   "language": "python",
   "name": "python3"
  },
  "language_info": {
   "codemirror_mode": {
    "name": "ipython",
    "version": 3
   },
   "file_extension": ".py",
   "mimetype": "text/x-python",
   "name": "python",
   "nbconvert_exporter": "python",
   "pygments_lexer": "ipython3",
   "version": "3.10.13"
  }
 },
 "nbformat": 4,
 "nbformat_minor": 4
}
