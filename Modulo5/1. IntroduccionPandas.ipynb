{
 "cells": [
  {
   "cell_type": "markdown",
   "metadata": {},
   "source": [
    "# Introduccion a Pandas\n",
    "------------------------\n",
    "\n",
    "En este apartado aprenderás todo sobre [pandas](https://pandas.pydata.org/docs/getting_started/index.html), la biblioteca Python más popular para análisis de datos.\n",
    "\n",
    "\n",
    "\n",
    "Para usar pandas, normalmente comenzarás con la siguiente línea de código.\n",
    "\n",
    "<code>pip install pandas</code>\n"
   ]
  },
  {
   "cell_type": "code",
   "execution_count": 1,
   "metadata": {},
   "outputs": [
    {
     "name": "stdout",
     "output_type": "stream",
     "text": [
      "Requirement already satisfied: pandas in /home/codespace/.local/lib/python3.10/site-packages (2.1.4)\n",
      "Requirement already satisfied: numpy<2,>=1.22.4 in /home/codespace/.local/lib/python3.10/site-packages (from pandas) (1.26.3)\n",
      "Requirement already satisfied: python-dateutil>=2.8.2 in /home/codespace/.local/lib/python3.10/site-packages (from pandas) (2.8.2)\n",
      "Requirement already satisfied: pytz>=2020.1 in /home/codespace/.local/lib/python3.10/site-packages (from pandas) (2023.3.post1)\n",
      "Requirement already satisfied: tzdata>=2022.1 in /home/codespace/.local/lib/python3.10/site-packages (from pandas) (2023.4)\n",
      "Requirement already satisfied: six>=1.5 in /home/codespace/.local/lib/python3.10/site-packages (from python-dateutil>=2.8.2->pandas) (1.16.0)\n",
      "\n",
      "\u001b[1m[\u001b[0m\u001b[34;49mnotice\u001b[0m\u001b[1;39;49m]\u001b[0m\u001b[39;49m A new release of pip is available: \u001b[0m\u001b[31;49m23.3.2\u001b[0m\u001b[39;49m -> \u001b[0m\u001b[32;49m24.0\u001b[0m\n",
      "\u001b[1m[\u001b[0m\u001b[34;49mnotice\u001b[0m\u001b[1;39;49m]\u001b[0m\u001b[39;49m To update, run: \u001b[0m\u001b[32;49mpython -m pip install --upgrade pip\u001b[0m\n"
     ]
    }
   ],
   "source": [
    "# instalacion de libreria\n",
    "!pip install pandas"
   ]
  },
  {
   "cell_type": "markdown",
   "metadata": {},
   "source": [
    "Posteiormente haremos la importación de la librería de la siguiente forma"
   ]
  },
  {
   "cell_type": "code",
   "execution_count": 2,
   "metadata": {},
   "outputs": [
    {
     "data": {
      "text/plain": [
       "'2.1.4'"
      ]
     },
     "execution_count": 2,
     "metadata": {},
     "output_type": "execute_result"
    }
   ],
   "source": [
    "# se emplea el alias de 'pd' como convención\n",
    "import pandas as pd\n",
    "\n",
    "# versión pandas\n",
    "pd.__version__"
   ]
  },
  {
   "cell_type": "markdown",
   "metadata": {},
   "source": [
    "### Qué es pandas?\n",
    "\n",
    "Pandas es una biblioteca de Python que se utiliza para trabajar con conjuntos de datos. Tiene funciones para analizar, limpiar, explorar y manipular datos."
   ]
  },
  {
   "cell_type": "markdown",
   "metadata": {},
   "source": [
    "### Qué puede hacer pandas por ti?"
   ]
  },
  {
   "cell_type": "markdown",
   "metadata": {},
   "source": [
    "- Cargar datos de diferentes recursos\n",
    "- Búsqueda de una fila o columna en particular\n",
    "- Realización de calculos estadísticos\n",
    "- Processamiento de datos\n",
    "- Combinar datos de múltiples recursos"
   ]
  },
  {
   "cell_type": "markdown",
   "metadata": {
    "jp-MarkdownHeadingCollapsed": true,
    "tags": []
   },
   "source": [
    "## 1. Creación y Carga de Datos en Pandas\n",
    "---------------------------------"
   ]
  },
  {
   "cell_type": "markdown",
   "metadata": {},
   "source": [
    "Antes de iniciar debemos entender que en pandas hay dos objetos principales: **DataFrame** y **Series**.\n",
    "\n",
    "**Serie**\n",
    "\n",
    "Una Serie, es una secuencia de valores de datos similar a una lista de datos.\n",
    "\n",
    "<code>Series([17,5,7,5,67,84,29,52,12,53,1,10])</code>\n",
    "\n",
    "\n",
    "**DataFrame**\n",
    "\n",
    "Por el contrario, un DataFrame lo podemos ver como una tabla de datos la cual esta conformada por filas y columnas. Para pandas cada columna de información viene a ser una serie de datos\n",
    "\n",
    "La siguiente imagen muestra un DataFrame:\n",
    "\n",
    "<img src='https://pandas.pydata.org/docs/_images/01_table_dataframe.svg'>\n",
    "\n",
    "\n"
   ]
  },
  {
   "cell_type": "markdown",
   "metadata": {
    "jp-MarkdownHeadingCollapsed": true,
    "tags": []
   },
   "source": [
    "### 1.1 Creación de Data\n",
    "\n",
    "A partir de datos almacenados en diccionarios o listas es posible crear dataframes\n",
    "\n",
    "`pd.Dataframe()`"
   ]
  },
  {
   "cell_type": "code",
   "execution_count": 3,
   "metadata": {},
   "outputs": [
    {
     "data": {
      "text/html": [
       "<div>\n",
       "<style scoped>\n",
       "    .dataframe tbody tr th:only-of-type {\n",
       "        vertical-align: middle;\n",
       "    }\n",
       "\n",
       "    .dataframe tbody tr th {\n",
       "        vertical-align: top;\n",
       "    }\n",
       "\n",
       "    .dataframe thead th {\n",
       "        text-align: right;\n",
       "    }\n",
       "</style>\n",
       "<table border=\"1\" class=\"dataframe\">\n",
       "  <thead>\n",
       "    <tr style=\"text-align: right;\">\n",
       "      <th></th>\n",
       "      <th>Name</th>\n",
       "      <th>Age</th>\n",
       "      <th>Sex</th>\n",
       "    </tr>\n",
       "  </thead>\n",
       "  <tbody>\n",
       "    <tr>\n",
       "      <th>0</th>\n",
       "      <td>Braund, Mr. Owen Harris</td>\n",
       "      <td>22</td>\n",
       "      <td>male</td>\n",
       "    </tr>\n",
       "    <tr>\n",
       "      <th>1</th>\n",
       "      <td>Allen, Mr. William Henry</td>\n",
       "      <td>35</td>\n",
       "      <td>male</td>\n",
       "    </tr>\n",
       "    <tr>\n",
       "      <th>2</th>\n",
       "      <td>Bonnell, Miss. Elizabeth</td>\n",
       "      <td>58</td>\n",
       "      <td>female</td>\n",
       "    </tr>\n",
       "  </tbody>\n",
       "</table>\n",
       "</div>"
      ],
      "text/plain": [
       "                       Name  Age     Sex\n",
       "0   Braund, Mr. Owen Harris   22    male\n",
       "1  Allen, Mr. William Henry   35    male\n",
       "2  Bonnell, Miss. Elizabeth   58  female"
      ]
     },
     "execution_count": 3,
     "metadata": {},
     "output_type": "execute_result"
    }
   ],
   "source": [
    "import pandas as pd\n",
    "\n",
    "# creación de DF a partir de un diccionario\n",
    "dicx = {\n",
    "        \"Name\": [\n",
    "            \"Braund, Mr. Owen Harris\",\n",
    "            \"Allen, Mr. William Henry\",\n",
    "            \"Bonnell, Miss. Elizabeth\"\n",
    "        ],\n",
    "        \"Age\": [22, 35, 58],\n",
    "        \"Sex\": [\"male\", \"male\", \"female\"],\n",
    "    }\n",
    "\n",
    "# df -> es una variable de tipo Dataframe\n",
    "df = pd.DataFrame(dicx)\n",
    "df"
   ]
  },
  {
   "cell_type": "code",
   "execution_count": 5,
   "metadata": {},
   "outputs": [
    {
     "data": {
      "text/html": [
       "<div>\n",
       "<style scoped>\n",
       "    .dataframe tbody tr th:only-of-type {\n",
       "        vertical-align: middle;\n",
       "    }\n",
       "\n",
       "    .dataframe tbody tr th {\n",
       "        vertical-align: top;\n",
       "    }\n",
       "\n",
       "    .dataframe thead th {\n",
       "        text-align: right;\n",
       "    }\n",
       "</style>\n",
       "<table border=\"1\" class=\"dataframe\">\n",
       "  <thead>\n",
       "    <tr style=\"text-align: right;\">\n",
       "      <th></th>\n",
       "      <th>nombre</th>\n",
       "      <th>apellido</th>\n",
       "      <th>edad</th>\n",
       "    </tr>\n",
       "  </thead>\n",
       "  <tbody>\n",
       "    <tr>\n",
       "      <th>0</th>\n",
       "      <td>Rick</td>\n",
       "      <td>Sanchez</td>\n",
       "      <td>60</td>\n",
       "    </tr>\n",
       "    <tr>\n",
       "      <th>1</th>\n",
       "      <td>Morty</td>\n",
       "      <td>Smith</td>\n",
       "      <td>14</td>\n",
       "    </tr>\n",
       "  </tbody>\n",
       "</table>\n",
       "</div>"
      ],
      "text/plain": [
       "  nombre apellido  edad\n",
       "0   Rick  Sanchez    60\n",
       "1  Morty    Smith    14"
      ]
     },
     "execution_count": 5,
     "metadata": {},
     "output_type": "execute_result"
    }
   ],
   "source": [
    "import pandas as pd\n",
    "# creacion de df a partir de una lista\n",
    "lista = [\n",
    "            [\"Rick\", \"Sanchez\", 60],\n",
    "            [\"Morty\", \"Smith\", 14]\n",
    "        ]\n",
    "\n",
    "# nombre de columnas\n",
    "columnas= [\"nombre\", \"apellido\", \"edad\"]\n",
    "df = pd.DataFrame(lista, columns = columnas)\n",
    "df"
   ]
  },
  {
   "cell_type": "code",
   "execution_count": 6,
   "metadata": {},
   "outputs": [
    {
     "data": {
      "text/plain": [
       "pandas.core.frame.DataFrame"
      ]
     },
     "execution_count": 6,
     "metadata": {},
     "output_type": "execute_result"
    }
   ],
   "source": [
    "# tipo de dato de dataframe \n",
    "type(df)"
   ]
  },
  {
   "cell_type": "code",
   "execution_count": 8,
   "metadata": {},
   "outputs": [
    {
     "data": {
      "text/html": [
       "<div>\n",
       "<style scoped>\n",
       "    .dataframe tbody tr th:only-of-type {\n",
       "        vertical-align: middle;\n",
       "    }\n",
       "\n",
       "    .dataframe tbody tr th {\n",
       "        vertical-align: top;\n",
       "    }\n",
       "\n",
       "    .dataframe thead th {\n",
       "        text-align: right;\n",
       "    }\n",
       "</style>\n",
       "<table border=\"1\" class=\"dataframe\">\n",
       "  <thead>\n",
       "    <tr style=\"text-align: right;\">\n",
       "      <th></th>\n",
       "      <th>Marca</th>\n",
       "      <th>Modelo</th>\n",
       "      <th>Precio</th>\n",
       "    </tr>\n",
       "  </thead>\n",
       "  <tbody>\n",
       "    <tr>\n",
       "      <th>0</th>\n",
       "      <td>Toyota</td>\n",
       "      <td>bZ4X.</td>\n",
       "      <td>20000</td>\n",
       "    </tr>\n",
       "    <tr>\n",
       "      <th>1</th>\n",
       "      <td>Nissan</td>\n",
       "      <td>Murano</td>\n",
       "      <td>30000</td>\n",
       "    </tr>\n",
       "  </tbody>\n",
       "</table>\n",
       "</div>"
      ],
      "text/plain": [
       "    Marca  Modelo  Precio\n",
       "0  Toyota   bZ4X.   20000\n",
       "1  Nissan  Murano   30000"
      ]
     },
     "execution_count": 8,
     "metadata": {},
     "output_type": "execute_result"
    }
   ],
   "source": [
    "# Crear un dataframe a partir de un diccionario o listado-\n",
    "lista = [\n",
    "            [\"Toyota\", \"bZ4X.\", 20000],\n",
    "            [\"Nissan\", \"Murano\", 30000]\n",
    "        ]\n",
    "\n",
    "# nombre de columnas\n",
    "columnas= [\"Marca\", \"Modelo\", \"Precio\"]\n",
    "df = pd.DataFrame(lista, columns = columnas)\n",
    "df"
   ]
  },
  {
   "cell_type": "markdown",
   "metadata": {
    "tags": []
   },
   "source": [
    "### 1.2 Carga de Datos en Pandas\n",
    "\n",
    "`Pandas` puede leer archivos de muchos tipos, csv, json, excel entre otros.\n",
    "\n",
    "Para leer un archivo siempre iniciamos con : `pd.read_` "
   ]
  },
  {
   "cell_type": "markdown",
   "metadata": {},
   "source": [
    "<img src='https://pandas.pydata.org/docs/_images/02_io_readwrite.svg'>"
   ]
  },
  {
   "cell_type": "code",
   "execution_count": 9,
   "metadata": {},
   "outputs": [
    {
     "data": {
      "text/html": [
       "<div>\n",
       "<style scoped>\n",
       "    .dataframe tbody tr th:only-of-type {\n",
       "        vertical-align: middle;\n",
       "    }\n",
       "\n",
       "    .dataframe tbody tr th {\n",
       "        vertical-align: top;\n",
       "    }\n",
       "\n",
       "    .dataframe thead th {\n",
       "        text-align: right;\n",
       "    }\n",
       "</style>\n",
       "<table border=\"1\" class=\"dataframe\">\n",
       "  <thead>\n",
       "    <tr style=\"text-align: right;\">\n",
       "      <th></th>\n",
       "      <th>DEPARTMENT</th>\n",
       "      <th>PROVINCE</th>\n",
       "      <th>DISTRICT</th>\n",
       "      <th>UBIGEO</th>\n",
       "      <th>GID_3</th>\n",
       "      <th>NAME_3</th>\n",
       "      <th>Poverty</th>\n",
       "    </tr>\n",
       "  </thead>\n",
       "  <tbody>\n",
       "    <tr>\n",
       "      <th>0</th>\n",
       "      <td>AMAZONAS</td>\n",
       "      <td>BAGUA</td>\n",
       "      <td>BAGUA</td>\n",
       "      <td>10201</td>\n",
       "      <td>NaN</td>\n",
       "      <td>NaN</td>\n",
       "      <td>16.200001</td>\n",
       "    </tr>\n",
       "    <tr>\n",
       "      <th>1</th>\n",
       "      <td>AMAZONAS</td>\n",
       "      <td>BAGUA</td>\n",
       "      <td>ARAMANGO</td>\n",
       "      <td>10202</td>\n",
       "      <td>PER.1.1.1_1</td>\n",
       "      <td>Aramango</td>\n",
       "      <td>38.500000</td>\n",
       "    </tr>\n",
       "  </tbody>\n",
       "</table>\n",
       "</div>"
      ],
      "text/plain": [
       "  DEPARTMENT PROVINCE  DISTRICT  UBIGEO        GID_3    NAME_3    Poverty\n",
       "0   AMAZONAS    BAGUA     BAGUA   10201          NaN       NaN  16.200001\n",
       "1   AMAZONAS    BAGUA  ARAMANGO   10202  PER.1.1.1_1  Aramango  38.500000"
      ]
     },
     "execution_count": 9,
     "metadata": {},
     "output_type": "execute_result"
    }
   ],
   "source": [
    "## Leyendo datos de tipo \"csv\"\n",
    "import pandas as pd\n",
    "\n",
    "# csv(<ruta archivo>, sep=<separador datos>)\n",
    "\n",
    "df_datset = pd.read_csv('./src/hih_peru_poverty_dataset2.csv',sep=',')\n",
    "df_datset.head(2)"
   ]
  },
  {
   "cell_type": "code",
   "execution_count": 10,
   "metadata": {},
   "outputs": [
    {
     "name": "stdout",
     "output_type": "stream",
     "text": [
      "Collecting openpyxl\n",
      "  Downloading openpyxl-3.1.2-py2.py3-none-any.whl.metadata (2.5 kB)\n",
      "Collecting et-xmlfile (from openpyxl)\n",
      "  Downloading et_xmlfile-1.1.0-py3-none-any.whl (4.7 kB)\n",
      "Downloading openpyxl-3.1.2-py2.py3-none-any.whl (249 kB)\n",
      "\u001b[2K   \u001b[90m━━━━━━━━━━━━━━━━━━━━━━━━━━━━━━━━━━━━━━━━\u001b[0m \u001b[32m250.0/250.0 kB\u001b[0m \u001b[31m5.4 MB/s\u001b[0m eta \u001b[36m0:00:00\u001b[0m:00:01\u001b[0m\n",
      "\u001b[?25hInstalling collected packages: et-xmlfile, openpyxl\n",
      "Successfully installed et-xmlfile-1.1.0 openpyxl-3.1.2\n",
      "\n",
      "\u001b[1m[\u001b[0m\u001b[34;49mnotice\u001b[0m\u001b[1;39;49m]\u001b[0m\u001b[39;49m A new release of pip is available: \u001b[0m\u001b[31;49m23.3.2\u001b[0m\u001b[39;49m -> \u001b[0m\u001b[32;49m24.0\u001b[0m\n",
      "\u001b[1m[\u001b[0m\u001b[34;49mnotice\u001b[0m\u001b[1;39;49m]\u001b[0m\u001b[39;49m To update, run: \u001b[0m\u001b[32;49mpython -m pip install --upgrade pip\u001b[0m\n"
     ]
    }
   ],
   "source": [
    "## Leyendo datos de tipo \"excel\"  \n",
    "!pip install openpyxl"
   ]
  },
  {
   "cell_type": "code",
   "execution_count": 11,
   "metadata": {},
   "outputs": [
    {
     "data": {
      "text/html": [
       "<div>\n",
       "<style scoped>\n",
       "    .dataframe tbody tr th:only-of-type {\n",
       "        vertical-align: middle;\n",
       "    }\n",
       "\n",
       "    .dataframe tbody tr th {\n",
       "        vertical-align: top;\n",
       "    }\n",
       "\n",
       "    .dataframe thead th {\n",
       "        text-align: right;\n",
       "    }\n",
       "</style>\n",
       "<table border=\"1\" class=\"dataframe\">\n",
       "  <thead>\n",
       "    <tr style=\"text-align: right;\">\n",
       "      <th></th>\n",
       "      <th>Date</th>\n",
       "      <th>Open</th>\n",
       "      <th>High</th>\n",
       "      <th>Low</th>\n",
       "      <th>Close</th>\n",
       "      <th>Adj Close</th>\n",
       "      <th>Volume</th>\n",
       "    </tr>\n",
       "  </thead>\n",
       "  <tbody>\n",
       "    <tr>\n",
       "      <th>0</th>\n",
       "      <td>2022-10-19</td>\n",
       "      <td>1.000105</td>\n",
       "      <td>1.000210</td>\n",
       "      <td>1.000036</td>\n",
       "      <td>1.000060</td>\n",
       "      <td>1.000060</td>\n",
       "      <td>32767030077</td>\n",
       "    </tr>\n",
       "    <tr>\n",
       "      <th>1</th>\n",
       "      <td>2022-10-20</td>\n",
       "      <td>1.000068</td>\n",
       "      <td>1.000159</td>\n",
       "      <td>0.999964</td>\n",
       "      <td>0.999994</td>\n",
       "      <td>0.999994</td>\n",
       "      <td>32981854458</td>\n",
       "    </tr>\n",
       "    <tr>\n",
       "      <th>2</th>\n",
       "      <td>2022-10-21</td>\n",
       "      <td>1.000000</td>\n",
       "      <td>1.000141</td>\n",
       "      <td>0.999928</td>\n",
       "      <td>1.000123</td>\n",
       "      <td>1.000123</td>\n",
       "      <td>41430999058</td>\n",
       "    </tr>\n",
       "    <tr>\n",
       "      <th>3</th>\n",
       "      <td>2022-10-22</td>\n",
       "      <td>1.000124</td>\n",
       "      <td>1.000196</td>\n",
       "      <td>1.000017</td>\n",
       "      <td>1.000085</td>\n",
       "      <td>1.000085</td>\n",
       "      <td>24133042918</td>\n",
       "    </tr>\n",
       "    <tr>\n",
       "      <th>4</th>\n",
       "      <td>2022-10-23</td>\n",
       "      <td>1.000061</td>\n",
       "      <td>1.000203</td>\n",
       "      <td>1.000024</td>\n",
       "      <td>1.000077</td>\n",
       "      <td>1.000077</td>\n",
       "      <td>31629519444</td>\n",
       "    </tr>\n",
       "    <tr>\n",
       "      <th>...</th>\n",
       "      <td>...</td>\n",
       "      <td>...</td>\n",
       "      <td>...</td>\n",
       "      <td>...</td>\n",
       "      <td>...</td>\n",
       "      <td>...</td>\n",
       "      <td>...</td>\n",
       "    </tr>\n",
       "    <tr>\n",
       "      <th>361</th>\n",
       "      <td>2023-10-15</td>\n",
       "      <td>1.000025</td>\n",
       "      <td>1.000548</td>\n",
       "      <td>0.999836</td>\n",
       "      <td>1.000373</td>\n",
       "      <td>1.000373</td>\n",
       "      <td>12496424347</td>\n",
       "    </tr>\n",
       "    <tr>\n",
       "      <th>362</th>\n",
       "      <td>2023-10-16</td>\n",
       "      <td>1.000379</td>\n",
       "      <td>1.000932</td>\n",
       "      <td>0.999911</td>\n",
       "      <td>1.000548</td>\n",
       "      <td>1.000548</td>\n",
       "      <td>47707269941</td>\n",
       "    </tr>\n",
       "    <tr>\n",
       "      <th>363</th>\n",
       "      <td>2023-10-17</td>\n",
       "      <td>1.000580</td>\n",
       "      <td>1.000840</td>\n",
       "      <td>1.000156</td>\n",
       "      <td>1.000404</td>\n",
       "      <td>1.000404</td>\n",
       "      <td>38333912794</td>\n",
       "    </tr>\n",
       "    <tr>\n",
       "      <th>364</th>\n",
       "      <td>2023-10-18</td>\n",
       "      <td>1.000419</td>\n",
       "      <td>1.000792</td>\n",
       "      <td>1.000107</td>\n",
       "      <td>1.000227</td>\n",
       "      <td>1.000227</td>\n",
       "      <td>32819081997</td>\n",
       "    </tr>\n",
       "    <tr>\n",
       "      <th>365</th>\n",
       "      <td>2023-10-19</td>\n",
       "      <td>1.000332</td>\n",
       "      <td>1.000424</td>\n",
       "      <td>1.000070</td>\n",
       "      <td>1.000146</td>\n",
       "      <td>1.000146</td>\n",
       "      <td>32145283072</td>\n",
       "    </tr>\n",
       "  </tbody>\n",
       "</table>\n",
       "<p>366 rows × 7 columns</p>\n",
       "</div>"
      ],
      "text/plain": [
       "          Date      Open      High       Low     Close  Adj Close       Volume\n",
       "0   2022-10-19  1.000105  1.000210  1.000036  1.000060   1.000060  32767030077\n",
       "1   2022-10-20  1.000068  1.000159  0.999964  0.999994   0.999994  32981854458\n",
       "2   2022-10-21  1.000000  1.000141  0.999928  1.000123   1.000123  41430999058\n",
       "3   2022-10-22  1.000124  1.000196  1.000017  1.000085   1.000085  24133042918\n",
       "4   2022-10-23  1.000061  1.000203  1.000024  1.000077   1.000077  31629519444\n",
       "..         ...       ...       ...       ...       ...        ...          ...\n",
       "361 2023-10-15  1.000025  1.000548  0.999836  1.000373   1.000373  12496424347\n",
       "362 2023-10-16  1.000379  1.000932  0.999911  1.000548   1.000548  47707269941\n",
       "363 2023-10-17  1.000580  1.000840  1.000156  1.000404   1.000404  38333912794\n",
       "364 2023-10-18  1.000419  1.000792  1.000107  1.000227   1.000227  32819081997\n",
       "365 2023-10-19  1.000332  1.000424  1.000070  1.000146   1.000146  32145283072\n",
       "\n",
       "[366 rows x 7 columns]"
      ]
     },
     "execution_count": 11,
     "metadata": {},
     "output_type": "execute_result"
    }
   ],
   "source": [
    "path_ = \"./src/cripto_currency.xlsx\"\n",
    "# excel(<ruta_archivo>, sheet_name='nombre_hoja_excel')\n",
    "df_excel = pd.read_excel(path_, sheet_name='USDT-USD')\n",
    "df_excel"
   ]
  },
  {
   "cell_type": "code",
   "execution_count": 12,
   "metadata": {},
   "outputs": [
    {
     "data": {
      "text/plain": [
       "dict_keys(['BTC-USD', 'DOGE-USD', 'USDT-USD'])"
      ]
     },
     "execution_count": 12,
     "metadata": {},
     "output_type": "execute_result"
    }
   ],
   "source": [
    "# Ejercicio: como podríamos leer todas las hojas de excel?\n",
    "path_ = \"./src/cripto_currency.xlsx\"\n",
    "df = pd.read_excel(path_, sheet_name=None)\n",
    "\n",
    "df.keys()"
   ]
  },
  {
   "cell_type": "code",
   "execution_count": 13,
   "metadata": {},
   "outputs": [
    {
     "data": {
      "text/html": [
       "<div>\n",
       "<style scoped>\n",
       "    .dataframe tbody tr th:only-of-type {\n",
       "        vertical-align: middle;\n",
       "    }\n",
       "\n",
       "    .dataframe tbody tr th {\n",
       "        vertical-align: top;\n",
       "    }\n",
       "\n",
       "    .dataframe thead th {\n",
       "        text-align: right;\n",
       "    }\n",
       "</style>\n",
       "<table border=\"1\" class=\"dataframe\">\n",
       "  <thead>\n",
       "    <tr style=\"text-align: right;\">\n",
       "      <th></th>\n",
       "      <th>Date</th>\n",
       "      <th>Open</th>\n",
       "      <th>High</th>\n",
       "      <th>Low</th>\n",
       "      <th>Close</th>\n",
       "      <th>Adj Close</th>\n",
       "      <th>Volume</th>\n",
       "    </tr>\n",
       "  </thead>\n",
       "  <tbody>\n",
       "    <tr>\n",
       "      <th>0</th>\n",
       "      <td>2022-10-19</td>\n",
       "      <td>0.059779</td>\n",
       "      <td>0.060680</td>\n",
       "      <td>0.058628</td>\n",
       "      <td>0.058713</td>\n",
       "      <td>0.058713</td>\n",
       "      <td>287297160</td>\n",
       "    </tr>\n",
       "    <tr>\n",
       "      <th>1</th>\n",
       "      <td>2022-10-20</td>\n",
       "      <td>0.058711</td>\n",
       "      <td>0.060237</td>\n",
       "      <td>0.058449</td>\n",
       "      <td>0.059536</td>\n",
       "      <td>0.059536</td>\n",
       "      <td>241388629</td>\n",
       "    </tr>\n",
       "  </tbody>\n",
       "</table>\n",
       "</div>"
      ],
      "text/plain": [
       "        Date      Open      High       Low     Close  Adj Close     Volume\n",
       "0 2022-10-19  0.059779  0.060680  0.058628  0.058713   0.058713  287297160\n",
       "1 2022-10-20  0.058711  0.060237  0.058449  0.059536   0.059536  241388629"
      ]
     },
     "execution_count": 13,
     "metadata": {},
     "output_type": "execute_result"
    }
   ],
   "source": [
    "df['DOGE-USD'].head(2)\n",
    "\n",
    "\n",
    "# df_bitcoin = df['BTC-USD']"
   ]
  },
  {
   "cell_type": "code",
   "execution_count": 15,
   "metadata": {},
   "outputs": [
    {
     "data": {
      "text/html": [
       "<div>\n",
       "<style scoped>\n",
       "    .dataframe tbody tr th:only-of-type {\n",
       "        vertical-align: middle;\n",
       "    }\n",
       "\n",
       "    .dataframe tbody tr th {\n",
       "        vertical-align: top;\n",
       "    }\n",
       "\n",
       "    .dataframe thead th {\n",
       "        text-align: right;\n",
       "    }\n",
       "</style>\n",
       "<table border=\"1\" class=\"dataframe\">\n",
       "  <thead>\n",
       "    <tr style=\"text-align: right;\">\n",
       "      <th></th>\n",
       "      <th>Date</th>\n",
       "      <th>Open</th>\n",
       "      <th>High</th>\n",
       "      <th>Low</th>\n",
       "      <th>Close</th>\n",
       "      <th>Adj Close</th>\n",
       "      <th>Volume</th>\n",
       "    </tr>\n",
       "  </thead>\n",
       "  <tbody>\n",
       "    <tr>\n",
       "      <th>0</th>\n",
       "      <td>2022-10-19</td>\n",
       "      <td>19335.027344</td>\n",
       "      <td>19348.416016</td>\n",
       "      <td>19127.687500</td>\n",
       "      <td>19139.535156</td>\n",
       "      <td>19139.535156</td>\n",
       "      <td>22425387184</td>\n",
       "    </tr>\n",
       "    <tr>\n",
       "      <th>1</th>\n",
       "      <td>2022-10-20</td>\n",
       "      <td>19138.085938</td>\n",
       "      <td>19315.199219</td>\n",
       "      <td>18971.458984</td>\n",
       "      <td>19053.740234</td>\n",
       "      <td>19053.740234</td>\n",
       "      <td>24493974420</td>\n",
       "    </tr>\n",
       "    <tr>\n",
       "      <th>2</th>\n",
       "      <td>2022-10-21</td>\n",
       "      <td>19053.203125</td>\n",
       "      <td>19237.384766</td>\n",
       "      <td>18770.970703</td>\n",
       "      <td>19172.468750</td>\n",
       "      <td>19172.468750</td>\n",
       "      <td>32459287866</td>\n",
       "    </tr>\n",
       "    <tr>\n",
       "      <th>3</th>\n",
       "      <td>2022-10-22</td>\n",
       "      <td>19172.380859</td>\n",
       "      <td>19248.068359</td>\n",
       "      <td>19132.244141</td>\n",
       "      <td>19208.189453</td>\n",
       "      <td>19208.189453</td>\n",
       "      <td>16104440957</td>\n",
       "    </tr>\n",
       "    <tr>\n",
       "      <th>4</th>\n",
       "      <td>2022-10-23</td>\n",
       "      <td>19207.734375</td>\n",
       "      <td>19646.652344</td>\n",
       "      <td>19124.197266</td>\n",
       "      <td>19567.007813</td>\n",
       "      <td>19567.007813</td>\n",
       "      <td>22128794335</td>\n",
       "    </tr>\n",
       "    <tr>\n",
       "      <th>...</th>\n",
       "      <td>...</td>\n",
       "      <td>...</td>\n",
       "      <td>...</td>\n",
       "      <td>...</td>\n",
       "      <td>...</td>\n",
       "      <td>...</td>\n",
       "      <td>...</td>\n",
       "    </tr>\n",
       "    <tr>\n",
       "      <th>361</th>\n",
       "      <td>2023-10-15</td>\n",
       "      <td>26858.011719</td>\n",
       "      <td>27289.169922</td>\n",
       "      <td>26817.894531</td>\n",
       "      <td>27159.652344</td>\n",
       "      <td>27159.652344</td>\n",
       "      <td>7098201980</td>\n",
       "    </tr>\n",
       "    <tr>\n",
       "      <th>362</th>\n",
       "      <td>2023-10-16</td>\n",
       "      <td>27162.628906</td>\n",
       "      <td>29448.138672</td>\n",
       "      <td>27130.472656</td>\n",
       "      <td>28519.466797</td>\n",
       "      <td>28519.466797</td>\n",
       "      <td>27833876539</td>\n",
       "    </tr>\n",
       "    <tr>\n",
       "      <th>363</th>\n",
       "      <td>2023-10-17</td>\n",
       "      <td>28522.097656</td>\n",
       "      <td>28618.751953</td>\n",
       "      <td>28110.185547</td>\n",
       "      <td>28415.748047</td>\n",
       "      <td>28415.748047</td>\n",
       "      <td>14872527508</td>\n",
       "    </tr>\n",
       "    <tr>\n",
       "      <th>364</th>\n",
       "      <td>2023-10-18</td>\n",
       "      <td>28413.531250</td>\n",
       "      <td>28889.009766</td>\n",
       "      <td>28174.251953</td>\n",
       "      <td>28328.341797</td>\n",
       "      <td>28328.341797</td>\n",
       "      <td>12724128586</td>\n",
       "    </tr>\n",
       "    <tr>\n",
       "      <th>365</th>\n",
       "      <td>2023-10-19</td>\n",
       "      <td>28308.337891</td>\n",
       "      <td>28413.585938</td>\n",
       "      <td>28202.761719</td>\n",
       "      <td>28258.759766</td>\n",
       "      <td>28258.759766</td>\n",
       "      <td>13139652608</td>\n",
       "    </tr>\n",
       "  </tbody>\n",
       "</table>\n",
       "<p>366 rows × 7 columns</p>\n",
       "</div>"
      ],
      "text/plain": [
       "          Date          Open          High           Low         Close  \\\n",
       "0   2022-10-19  19335.027344  19348.416016  19127.687500  19139.535156   \n",
       "1   2022-10-20  19138.085938  19315.199219  18971.458984  19053.740234   \n",
       "2   2022-10-21  19053.203125  19237.384766  18770.970703  19172.468750   \n",
       "3   2022-10-22  19172.380859  19248.068359  19132.244141  19208.189453   \n",
       "4   2022-10-23  19207.734375  19646.652344  19124.197266  19567.007813   \n",
       "..         ...           ...           ...           ...           ...   \n",
       "361 2023-10-15  26858.011719  27289.169922  26817.894531  27159.652344   \n",
       "362 2023-10-16  27162.628906  29448.138672  27130.472656  28519.466797   \n",
       "363 2023-10-17  28522.097656  28618.751953  28110.185547  28415.748047   \n",
       "364 2023-10-18  28413.531250  28889.009766  28174.251953  28328.341797   \n",
       "365 2023-10-19  28308.337891  28413.585938  28202.761719  28258.759766   \n",
       "\n",
       "        Adj Close       Volume  \n",
       "0    19139.535156  22425387184  \n",
       "1    19053.740234  24493974420  \n",
       "2    19172.468750  32459287866  \n",
       "3    19208.189453  16104440957  \n",
       "4    19567.007813  22128794335  \n",
       "..            ...          ...  \n",
       "361  27159.652344   7098201980  \n",
       "362  28519.466797  27833876539  \n",
       "363  28415.748047  14872527508  \n",
       "364  28328.341797  12724128586  \n",
       "365  28258.759766  13139652608  \n",
       "\n",
       "[366 rows x 7 columns]"
      ]
     },
     "execution_count": 15,
     "metadata": {},
     "output_type": "execute_result"
    }
   ],
   "source": [
    "df['BTC-USD']"
   ]
  },
  {
   "cell_type": "code",
   "execution_count": 17,
   "metadata": {},
   "outputs": [
    {
     "data": {
      "text/html": [
       "<div>\n",
       "<style scoped>\n",
       "    .dataframe tbody tr th:only-of-type {\n",
       "        vertical-align: middle;\n",
       "    }\n",
       "\n",
       "    .dataframe tbody tr th {\n",
       "        vertical-align: top;\n",
       "    }\n",
       "\n",
       "    .dataframe thead th {\n",
       "        text-align: right;\n",
       "    }\n",
       "</style>\n",
       "<table border=\"1\" class=\"dataframe\">\n",
       "  <thead>\n",
       "    <tr style=\"text-align: right;\">\n",
       "      <th></th>\n",
       "      <th>id</th>\n",
       "      <th>nombre</th>\n",
       "      <th>nota1</th>\n",
       "      <th>nota2</th>\n",
       "      <th>nota3</th>\n",
       "      <th>aprobo</th>\n",
       "    </tr>\n",
       "  </thead>\n",
       "  <tbody>\n",
       "    <tr>\n",
       "      <th>0</th>\n",
       "      <td>1</td>\n",
       "      <td>Juan</td>\n",
       "      <td>15.0</td>\n",
       "      <td>15.0</td>\n",
       "      <td>15.0</td>\n",
       "      <td>1</td>\n",
       "    </tr>\n",
       "    <tr>\n",
       "      <th>1</th>\n",
       "      <td>2</td>\n",
       "      <td>Maria</td>\n",
       "      <td>5.0</td>\n",
       "      <td>15.0</td>\n",
       "      <td>16.0</td>\n",
       "      <td>1</td>\n",
       "    </tr>\n",
       "    <tr>\n",
       "      <th>2</th>\n",
       "      <td>3</td>\n",
       "      <td>Gonzalo</td>\n",
       "      <td>5.0</td>\n",
       "      <td>6.0</td>\n",
       "      <td>9.0</td>\n",
       "      <td>1</td>\n",
       "    </tr>\n",
       "    <tr>\n",
       "      <th>3</th>\n",
       "      <td>4</td>\n",
       "      <td>Luis</td>\n",
       "      <td>8.0</td>\n",
       "      <td>7.0</td>\n",
       "      <td>9.0</td>\n",
       "      <td>1</td>\n",
       "    </tr>\n",
       "  </tbody>\n",
       "</table>\n",
       "</div>"
      ],
      "text/plain": [
       "   id   nombre  nota1  nota2  nota3  aprobo\n",
       "0   1     Juan   15.0   15.0   15.0       1\n",
       "1   2    Maria    5.0   15.0   16.0       1\n",
       "2   3  Gonzalo    5.0    6.0    9.0       1\n",
       "3   4     Luis    8.0    7.0    9.0       1"
      ]
     },
     "execution_count": 17,
     "metadata": {},
     "output_type": "execute_result"
    }
   ],
   "source": [
    "# Leyendo datos de una base de datos sqlite\n",
    "import sqlite3\n",
    "import pandas as pd\n",
    "\n",
    "path_bd = './src/pythondb.db'\n",
    "\n",
    "with sqlite3.connect(path_bd) as conn:\n",
    "    query = 'SELECT * FROM alumnos'\n",
    "    df_db = pd.read_sql_query(query, conn)\n",
    "    #db_bit = pd.read_sql_table(table_name='bitcoin', con=conn)\n",
    "    pass\n",
    "df_db.head()"
   ]
  },
  {
   "cell_type": "markdown",
   "metadata": {
    "jp-MarkdownHeadingCollapsed": true,
    "tags": []
   },
   "source": [
    "## 2. Exploración de la Data\n",
    "-----------------------------"
   ]
  },
  {
   "cell_type": "markdown",
   "metadata": {},
   "source": [
    "En esta sección exploraremos algunos métodos de los dataframes para obtener mayor información de nuestros datos como: cantidad de registros, visualizar registros de la data, cantidad de columnas, tipos de datos de las columnas, nombre de columnas, etc"
   ]
  },
  {
   "cell_type": "code",
   "execution_count": 19,
   "metadata": {},
   "outputs": [],
   "source": [
    "# Cargando nuestra data titanic\n",
    "import pandas as pd\n",
    "df = pd.read_excel('./src/reactiva.xlsx',sheet_name='TRANSFERENCIAS 2020')"
   ]
  },
  {
   "cell_type": "markdown",
   "metadata": {},
   "source": [
    "Método `shape` nos devuelve el número de filas y columnas"
   ]
  },
  {
   "cell_type": "code",
   "execution_count": 20,
   "metadata": {},
   "outputs": [
    {
     "data": {
      "text/plain": [
       "(525, 21)"
      ]
     },
     "execution_count": 20,
     "metadata": {},
     "output_type": "execute_result"
    }
   ],
   "source": [
    "df.shape"
   ]
  },
  {
   "cell_type": "markdown",
   "metadata": {},
   "source": [
    "Método `head` retorna los primertos 5 resultados contenidos en el dataframe (df)\n",
    "\n",
    "Método `tail` retorna los 5 últimos resultados contenidos en el dataframe (df)"
   ]
  },
  {
   "cell_type": "code",
   "execution_count": 23,
   "metadata": {},
   "outputs": [
    {
     "data": {
      "text/html": [
       "<div>\n",
       "<style scoped>\n",
       "    .dataframe tbody tr th:only-of-type {\n",
       "        vertical-align: middle;\n",
       "    }\n",
       "\n",
       "    .dataframe tbody tr th {\n",
       "        vertical-align: top;\n",
       "    }\n",
       "\n",
       "    .dataframe thead th {\n",
       "        text-align: right;\n",
       "    }\n",
       "</style>\n",
       "<table border=\"1\" class=\"dataframe\">\n",
       "  <thead>\n",
       "    <tr style=\"text-align: right;\">\n",
       "      <th></th>\n",
       "      <th>ID</th>\n",
       "      <th>CODIGO PAIS</th>\n",
       "      <th>CODIGO ENTIDAD</th>\n",
       "      <th>UBIGEO</th>\n",
       "      <th>SNIP</th>\n",
       "      <th>CUI</th>\n",
       "      <th>REGION</th>\n",
       "      <th>PROVINCIA</th>\n",
       "      <th>DISTRITO</th>\n",
       "      <th>PROYECTO</th>\n",
       "      <th>DISPOSITIVO LEGAL</th>\n",
       "      <th>AMBITO</th>\n",
       "      <th>UNIDAD EJECUTORA</th>\n",
       "      <th>TOTAL EMPLEOS</th>\n",
       "      <th>POBLACION BENEFICIARIA</th>\n",
       "      <th>TIPOLOGIA</th>\n",
       "      <th>TIPO MONEDA</th>\n",
       "      <th>MONTO DE INVERSIÓN</th>\n",
       "      <th>TIPO MONEDA.1</th>\n",
       "      <th>MONTO DE TRANSFERENCIA 2020</th>\n",
       "      <th>ESTADO</th>\n",
       "    </tr>\n",
       "  </thead>\n",
       "  <tbody>\n",
       "    <tr>\n",
       "      <th>0</th>\n",
       "      <td>1</td>\n",
       "      <td>PE</td>\n",
       "      <td>11476</td>\n",
       "      <td>120127</td>\n",
       "      <td>346548</td>\n",
       "      <td>2307983</td>\n",
       "      <td>JUNIN</td>\n",
       "      <td>HUANCAYO</td>\n",
       "      <td>QUICHUAY</td>\n",
       "      <td>MEJORAMIENTO DE PISTAS Y VEREDAS EN LA CA. LIM...</td>\n",
       "      <td>DU N° 070-2020,</td>\n",
       "      <td>URBANO</td>\n",
       "      <td>MUNICIPALIDAD DISTRITAL DE QUICHUAY</td>\n",
       "      <td>121</td>\n",
       "      <td>1529</td>\n",
       "      <td>Pista y Vereda</td>\n",
       "      <td>PEN</td>\n",
       "      <td>4105693.0</td>\n",
       "      <td>PEN</td>\n",
       "      <td>4105693</td>\n",
       "      <td>En Ejecución</td>\n",
       "    </tr>\n",
       "  </tbody>\n",
       "</table>\n",
       "</div>"
      ],
      "text/plain": [
       "   ID CODIGO PAIS  CODIGO ENTIDAD  UBIGEO    SNIP      CUI REGION PROVINCIA  \\\n",
       "0   1          PE           11476  120127  346548  2307983  JUNIN  HUANCAYO   \n",
       "\n",
       "   DISTRITO                                           PROYECTO  \\\n",
       "0  QUICHUAY  MEJORAMIENTO DE PISTAS Y VEREDAS EN LA CA. LIM...   \n",
       "\n",
       "  DISPOSITIVO LEGAL  AMBITO                     UNIDAD EJECUTORA  \\\n",
       "0  DU N° 070-2020,   URBANO  MUNICIPALIDAD DISTRITAL DE QUICHUAY   \n",
       "\n",
       "   TOTAL EMPLEOS  POBLACION BENEFICIARIA       TIPOLOGIA TIPO MONEDA  \\\n",
       "0            121                    1529  Pista y Vereda         PEN   \n",
       "\n",
       "   MONTO DE INVERSIÓN TIPO MONEDA.1  MONTO DE TRANSFERENCIA 2020        ESTADO  \n",
       "0           4105693.0           PEN                      4105693  En Ejecución  "
      ]
     },
     "execution_count": 23,
     "metadata": {},
     "output_type": "execute_result"
    }
   ],
   "source": [
    "pd.set_option('display.max_columns', None)\n",
    "# head retorna los primeros 5 resultados del dataframe\n",
    "df.head(1)"
   ]
  },
  {
   "cell_type": "code",
   "execution_count": 24,
   "metadata": {},
   "outputs": [
    {
     "data": {
      "text/html": [
       "<div>\n",
       "<style scoped>\n",
       "    .dataframe tbody tr th:only-of-type {\n",
       "        vertical-align: middle;\n",
       "    }\n",
       "\n",
       "    .dataframe tbody tr th {\n",
       "        vertical-align: top;\n",
       "    }\n",
       "\n",
       "    .dataframe thead th {\n",
       "        text-align: right;\n",
       "    }\n",
       "</style>\n",
       "<table border=\"1\" class=\"dataframe\">\n",
       "  <thead>\n",
       "    <tr style=\"text-align: right;\">\n",
       "      <th></th>\n",
       "      <th>ID</th>\n",
       "      <th>CODIGO PAIS</th>\n",
       "      <th>CODIGO ENTIDAD</th>\n",
       "      <th>UBIGEO</th>\n",
       "      <th>SNIP</th>\n",
       "      <th>CUI</th>\n",
       "      <th>REGION</th>\n",
       "      <th>PROVINCIA</th>\n",
       "      <th>DISTRITO</th>\n",
       "      <th>PROYECTO</th>\n",
       "      <th>DISPOSITIVO LEGAL</th>\n",
       "      <th>AMBITO</th>\n",
       "      <th>UNIDAD EJECUTORA</th>\n",
       "      <th>TOTAL EMPLEOS</th>\n",
       "      <th>POBLACION BENEFICIARIA</th>\n",
       "      <th>TIPOLOGIA</th>\n",
       "      <th>TIPO MONEDA</th>\n",
       "      <th>MONTO DE INVERSIÓN</th>\n",
       "      <th>TIPO MONEDA.1</th>\n",
       "      <th>MONTO DE TRANSFERENCIA 2020</th>\n",
       "      <th>ESTADO</th>\n",
       "    </tr>\n",
       "  </thead>\n",
       "  <tbody>\n",
       "    <tr>\n",
       "      <th>523</th>\n",
       "      <td>524</td>\n",
       "      <td>PE</td>\n",
       "      <td>11476</td>\n",
       "      <td>90719</td>\n",
       "      <td>2482467</td>\n",
       "      <td>2482467</td>\n",
       "      <td>HUANCAVELICA</td>\n",
       "      <td>TAYACAJA</td>\n",
       "      <td>QUICHUAS</td>\n",
       "      <td>CREACION DEL ACCESO PEATONAL CON ESCALINATAS Y...</td>\n",
       "      <td>DU N° 114-2020,</td>\n",
       "      <td>RURAL</td>\n",
       "      <td>MUNICIPALIDAD DISTRITAL DE QUICHUAS</td>\n",
       "      <td>12</td>\n",
       "      <td>688</td>\n",
       "      <td>Pista y Vereda</td>\n",
       "      <td>PEN</td>\n",
       "      <td>384854.42</td>\n",
       "      <td>PEN</td>\n",
       "      <td>362855</td>\n",
       "      <td>Concluido</td>\n",
       "    </tr>\n",
       "    <tr>\n",
       "      <th>524</th>\n",
       "      <td>525</td>\n",
       "      <td>PE</td>\n",
       "      <td>11476</td>\n",
       "      <td>120604</td>\n",
       "      <td>2489438</td>\n",
       "      <td>2489438</td>\n",
       "      <td>JUNIN</td>\n",
       "      <td>SATIPO</td>\n",
       "      <td>MAZAMARI</td>\n",
       "      <td>CREACION DE LOSA DE RECREACION MULTIUSOS EN EL...</td>\n",
       "      <td>DU N° 114-2020,</td>\n",
       "      <td>RURAL</td>\n",
       "      <td>MUNICIPALIDAD DISTRITAL DE MAZAMARI</td>\n",
       "      <td>22</td>\n",
       "      <td>18520</td>\n",
       "      <td>Equipamiento Urbano</td>\n",
       "      <td>PEN</td>\n",
       "      <td>701009.43</td>\n",
       "      <td>PEN</td>\n",
       "      <td>649262</td>\n",
       "      <td>Concluido</td>\n",
       "    </tr>\n",
       "  </tbody>\n",
       "</table>\n",
       "</div>"
      ],
      "text/plain": [
       "      ID CODIGO PAIS  CODIGO ENTIDAD  UBIGEO     SNIP      CUI        REGION  \\\n",
       "523  524          PE           11476   90719  2482467  2482467  HUANCAVELICA   \n",
       "524  525          PE           11476  120604  2489438  2489438         JUNIN   \n",
       "\n",
       "    PROVINCIA  DISTRITO                                           PROYECTO  \\\n",
       "523  TAYACAJA  QUICHUAS  CREACION DEL ACCESO PEATONAL CON ESCALINATAS Y...   \n",
       "524    SATIPO  MAZAMARI  CREACION DE LOSA DE RECREACION MULTIUSOS EN EL...   \n",
       "\n",
       "    DISPOSITIVO LEGAL AMBITO                     UNIDAD EJECUTORA  \\\n",
       "523  DU N° 114-2020,   RURAL  MUNICIPALIDAD DISTRITAL DE QUICHUAS   \n",
       "524  DU N° 114-2020,   RURAL  MUNICIPALIDAD DISTRITAL DE MAZAMARI   \n",
       "\n",
       "     TOTAL EMPLEOS  POBLACION BENEFICIARIA            TIPOLOGIA TIPO MONEDA  \\\n",
       "523             12                     688       Pista y Vereda         PEN   \n",
       "524             22                   18520  Equipamiento Urbano         PEN   \n",
       "\n",
       "     MONTO DE INVERSIÓN TIPO MONEDA.1  MONTO DE TRANSFERENCIA 2020     ESTADO  \n",
       "523           384854.42           PEN                       362855  Concluido  \n",
       "524           701009.43           PEN                       649262  Concluido  "
      ]
     },
     "execution_count": 24,
     "metadata": {},
     "output_type": "execute_result"
    }
   ],
   "source": [
    "# tail -> retorna los últimos 5 resultados del df\n",
    "df.tail(2)"
   ]
  },
  {
   "cell_type": "markdown",
   "metadata": {},
   "source": [
    "`dtypes` nos indica el tipo de dato para cada una de las columnas del df"
   ]
  },
  {
   "cell_type": "code",
   "execution_count": 25,
   "metadata": {},
   "outputs": [
    {
     "data": {
      "text/plain": [
       "ID                               int64\n",
       "CODIGO PAIS                     object\n",
       "CODIGO ENTIDAD                   int64\n",
       "UBIGEO                           int64\n",
       "SNIP                             int64\n",
       "CUI                              int64\n",
       "REGION                          object\n",
       "PROVINCIA                       object\n",
       "DISTRITO                        object\n",
       "PROYECTO                        object\n",
       "DISPOSITIVO LEGAL               object\n",
       "AMBITO                          object\n",
       "UNIDAD EJECUTORA                object\n",
       "TOTAL EMPLEOS                    int64\n",
       "POBLACION BENEFICIARIA           int64\n",
       "TIPOLOGIA                       object\n",
       "TIPO MONEDA                     object\n",
       "MONTO DE INVERSIÓN             float64\n",
       "TIPO MONEDA.1                   object\n",
       "MONTO DE TRANSFERENCIA 2020      int64\n",
       "ESTADO                          object\n",
       "dtype: object"
      ]
     },
     "execution_count": 25,
     "metadata": {},
     "output_type": "execute_result"
    }
   ],
   "source": [
    "df.dtypes"
   ]
  },
  {
   "cell_type": "markdown",
   "metadata": {},
   "source": [
    "`columns` nos indica las columnas que conforman el df"
   ]
  },
  {
   "cell_type": "code",
   "execution_count": 26,
   "metadata": {},
   "outputs": [
    {
     "data": {
      "text/plain": [
       "Index(['ID', 'CODIGO PAIS', 'CODIGO ENTIDAD', 'UBIGEO', 'SNIP', 'CUI',\n",
       "       'REGION', 'PROVINCIA', 'DISTRITO', 'PROYECTO', 'DISPOSITIVO LEGAL',\n",
       "       'AMBITO', 'UNIDAD EJECUTORA', 'TOTAL EMPLEOS', 'POBLACION BENEFICIARIA',\n",
       "       'TIPOLOGIA', 'TIPO MONEDA', 'MONTO DE INVERSIÓN', 'TIPO MONEDA.1',\n",
       "       'MONTO DE TRANSFERENCIA 2020', 'ESTADO'],\n",
       "      dtype='object')"
      ]
     },
     "execution_count": 26,
     "metadata": {},
     "output_type": "execute_result"
    }
   ],
   "source": [
    "df.columns"
   ]
  },
  {
   "cell_type": "markdown",
   "metadata": {},
   "source": [
    "`describe` nos brinda un resumen de la cantidad de datos, promedio, desviación estandar, minimo, máximo, etc de los datos de las columnas posibles"
   ]
  },
  {
   "cell_type": "code",
   "execution_count": 27,
   "metadata": {},
   "outputs": [
    {
     "data": {
      "text/html": [
       "<div>\n",
       "<style scoped>\n",
       "    .dataframe tbody tr th:only-of-type {\n",
       "        vertical-align: middle;\n",
       "    }\n",
       "\n",
       "    .dataframe tbody tr th {\n",
       "        vertical-align: top;\n",
       "    }\n",
       "\n",
       "    .dataframe thead th {\n",
       "        text-align: right;\n",
       "    }\n",
       "</style>\n",
       "<table border=\"1\" class=\"dataframe\">\n",
       "  <thead>\n",
       "    <tr style=\"text-align: right;\">\n",
       "      <th></th>\n",
       "      <th>ID</th>\n",
       "      <th>CODIGO ENTIDAD</th>\n",
       "      <th>UBIGEO</th>\n",
       "      <th>SNIP</th>\n",
       "      <th>CUI</th>\n",
       "      <th>TOTAL EMPLEOS</th>\n",
       "      <th>POBLACION BENEFICIARIA</th>\n",
       "      <th>MONTO DE INVERSIÓN</th>\n",
       "      <th>MONTO DE TRANSFERENCIA 2020</th>\n",
       "    </tr>\n",
       "  </thead>\n",
       "  <tbody>\n",
       "    <tr>\n",
       "      <th>count</th>\n",
       "      <td>525.000000</td>\n",
       "      <td>525.0</td>\n",
       "      <td>525.000000</td>\n",
       "      <td>5.250000e+02</td>\n",
       "      <td>5.250000e+02</td>\n",
       "      <td>525.000000</td>\n",
       "      <td>525.000000</td>\n",
       "      <td>5.250000e+02</td>\n",
       "      <td>5.250000e+02</td>\n",
       "    </tr>\n",
       "    <tr>\n",
       "      <th>mean</th>\n",
       "      <td>263.000000</td>\n",
       "      <td>11476.0</td>\n",
       "      <td>122868.192381</td>\n",
       "      <td>2.027038e+06</td>\n",
       "      <td>2.426709e+06</td>\n",
       "      <td>74.862857</td>\n",
       "      <td>1765.453333</td>\n",
       "      <td>2.546898e+06</td>\n",
       "      <td>1.864838e+06</td>\n",
       "    </tr>\n",
       "    <tr>\n",
       "      <th>std</th>\n",
       "      <td>151.698715</td>\n",
       "      <td>0.0</td>\n",
       "      <td>64137.390764</td>\n",
       "      <td>8.709889e+05</td>\n",
       "      <td>9.042029e+04</td>\n",
       "      <td>89.216181</td>\n",
       "      <td>4329.174256</td>\n",
       "      <td>3.076424e+06</td>\n",
       "      <td>1.709770e+06</td>\n",
       "    </tr>\n",
       "    <tr>\n",
       "      <th>min</th>\n",
       "      <td>1.000000</td>\n",
       "      <td>11476.0</td>\n",
       "      <td>10114.000000</td>\n",
       "      <td>1.892300e+04</td>\n",
       "      <td>2.025905e+06</td>\n",
       "      <td>6.000000</td>\n",
       "      <td>23.000000</td>\n",
       "      <td>1.622047e+05</td>\n",
       "      <td>1.834200e+04</td>\n",
       "    </tr>\n",
       "    <tr>\n",
       "      <th>25%</th>\n",
       "      <td>132.000000</td>\n",
       "      <td>11476.0</td>\n",
       "      <td>60501.000000</td>\n",
       "      <td>2.395833e+06</td>\n",
       "      <td>2.395833e+06</td>\n",
       "      <td>20.000000</td>\n",
       "      <td>278.000000</td>\n",
       "      <td>6.646410e+05</td>\n",
       "      <td>6.455530e+05</td>\n",
       "    </tr>\n",
       "    <tr>\n",
       "      <th>50%</th>\n",
       "      <td>263.000000</td>\n",
       "      <td>11476.0</td>\n",
       "      <td>130107.000000</td>\n",
       "      <td>2.470493e+06</td>\n",
       "      <td>2.470493e+06</td>\n",
       "      <td>32.000000</td>\n",
       "      <td>799.000000</td>\n",
       "      <td>1.079903e+06</td>\n",
       "      <td>1.046904e+06</td>\n",
       "    </tr>\n",
       "    <tr>\n",
       "      <th>75%</th>\n",
       "      <td>394.000000</td>\n",
       "      <td>11476.0</td>\n",
       "      <td>160112.000000</td>\n",
       "      <td>2.492101e+06</td>\n",
       "      <td>2.492101e+06</td>\n",
       "      <td>104.000000</td>\n",
       "      <td>1859.000000</td>\n",
       "      <td>3.548427e+06</td>\n",
       "      <td>3.060615e+06</td>\n",
       "    </tr>\n",
       "    <tr>\n",
       "      <th>max</th>\n",
       "      <td>525.000000</td>\n",
       "      <td>11476.0</td>\n",
       "      <td>250106.000000</td>\n",
       "      <td>2.494122e+06</td>\n",
       "      <td>2.494122e+06</td>\n",
       "      <td>812.000000</td>\n",
       "      <td>72970.000000</td>\n",
       "      <td>2.799006e+07</td>\n",
       "      <td>7.663363e+06</td>\n",
       "    </tr>\n",
       "  </tbody>\n",
       "</table>\n",
       "</div>"
      ],
      "text/plain": [
       "               ID  CODIGO ENTIDAD         UBIGEO          SNIP           CUI  \\\n",
       "count  525.000000           525.0     525.000000  5.250000e+02  5.250000e+02   \n",
       "mean   263.000000         11476.0  122868.192381  2.027038e+06  2.426709e+06   \n",
       "std    151.698715             0.0   64137.390764  8.709889e+05  9.042029e+04   \n",
       "min      1.000000         11476.0   10114.000000  1.892300e+04  2.025905e+06   \n",
       "25%    132.000000         11476.0   60501.000000  2.395833e+06  2.395833e+06   \n",
       "50%    263.000000         11476.0  130107.000000  2.470493e+06  2.470493e+06   \n",
       "75%    394.000000         11476.0  160112.000000  2.492101e+06  2.492101e+06   \n",
       "max    525.000000         11476.0  250106.000000  2.494122e+06  2.494122e+06   \n",
       "\n",
       "       TOTAL EMPLEOS  POBLACION BENEFICIARIA  MONTO DE INVERSIÓN  \\\n",
       "count     525.000000              525.000000        5.250000e+02   \n",
       "mean       74.862857             1765.453333        2.546898e+06   \n",
       "std        89.216181             4329.174256        3.076424e+06   \n",
       "min         6.000000               23.000000        1.622047e+05   \n",
       "25%        20.000000              278.000000        6.646410e+05   \n",
       "50%        32.000000              799.000000        1.079903e+06   \n",
       "75%       104.000000             1859.000000        3.548427e+06   \n",
       "max       812.000000            72970.000000        2.799006e+07   \n",
       "\n",
       "       MONTO DE TRANSFERENCIA 2020  \n",
       "count                 5.250000e+02  \n",
       "mean                  1.864838e+06  \n",
       "std                   1.709770e+06  \n",
       "min                   1.834200e+04  \n",
       "25%                   6.455530e+05  \n",
       "50%                   1.046904e+06  \n",
       "75%                   3.060615e+06  \n",
       "max                   7.663363e+06  "
      ]
     },
     "execution_count": 27,
     "metadata": {},
     "output_type": "execute_result"
    }
   ],
   "source": [
    "# Describe -> nos brinda un resumen de la cantidad de datos, promedio, desviación estandar, minimo, máximo, etc \n",
    "# de los datos de las columnas posibles\n",
    "df.describe()"
   ]
  },
  {
   "cell_type": "markdown",
   "metadata": {},
   "source": [
    "## 3. Escritura de Datos en Pandas \n",
    "----------------------------\n",
    "\n",
    "`Pandas` ofrece escritura en una gran variedad de formatos como: csv, json, excel entre otros.\n",
    "\n",
    "Para leer un archivo siempre iniciamos con : `pd.to_` "
   ]
  },
  {
   "cell_type": "markdown",
   "metadata": {},
   "source": [
    "<img src='https://pandas.pydata.org/docs/_images/02_io_readwrite.svg'>"
   ]
  },
  {
   "cell_type": "code",
   "execution_count": null,
   "metadata": {},
   "outputs": [],
   "source": [
    "# Con el Df que hemos estado trabajando, lo escribiré en diferentes archivos"
   ]
  },
  {
   "cell_type": "code",
   "execution_count": 30,
   "metadata": {},
   "outputs": [],
   "source": [
    "# 3.1 Escritura de archivos formato csv\n",
    "\n",
    "path_='./output/reactiva.csv'\n",
    "df.to_csv(path_, sep='|', encoding='utf-8', index=False)"
   ]
  },
  {
   "cell_type": "code",
   "execution_count": 31,
   "metadata": {},
   "outputs": [],
   "source": [
    "# 3.2 Escritura de archivos formato excel\n",
    "path_='./output/reactiva_excel.xlsx'\n",
    "df.to_excel(path_, index=False, sheet_name='Reactiva')"
   ]
  },
  {
   "cell_type": "code",
   "execution_count": null,
   "metadata": {},
   "outputs": [],
   "source": [
    "# 3.2 Escritura sobre sqlite3\n",
    "import sqlite3\n",
    "\n",
    "with sqlite3.connect('./output/db_export') as conn:   \n",
    "    # escribo datos en db\n",
    "    table_name = 'reactiva'\n",
    "    df.to_sql(table_name, conn, index=False, if_exists='replace')\n",
    "    pass\n",
    "\n"
   ]
  },
  {
   "cell_type": "code",
   "execution_count": null,
   "metadata": {},
   "outputs": [],
   "source": []
  }
 ],
 "metadata": {
  "kernelspec": {
   "display_name": "Python 3 (ipykernel)",
   "language": "python",
   "name": "python3"
  },
  "language_info": {
   "codemirror_mode": {
    "name": "ipython",
    "version": 3
   },
   "file_extension": ".py",
   "mimetype": "text/x-python",
   "name": "python",
   "nbconvert_exporter": "python",
   "pygments_lexer": "ipython3",
   "version": "3.10.13"
  }
 },
 "nbformat": 4,
 "nbformat_minor": 4
}
