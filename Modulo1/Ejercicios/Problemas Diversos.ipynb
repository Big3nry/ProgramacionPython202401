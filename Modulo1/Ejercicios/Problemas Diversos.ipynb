{
 "cells": [
  {
   "cell_type": "markdown",
   "metadata": {},
   "source": [
    "# PROBLEMAS DIVERSOS"
   ]
  },
  {
   "cell_type": "markdown",
   "metadata": {},
   "source": [
    "<h3>1.</h3>\n",
    "Imagina que acabas de abrir una nueva cuenta de ahorros que te ofrece el 4% de interés al año. Estos ahorros debido a intereses, que no se cobran hasta finales de año, se te añaden al balance final de tu cuenta de ahorros. Escribir un programa que comience leyendo la cantidad de dinero depositada en la cuenta de ahorros, introducida por el usuario. Después el programa debe calcular y mostrar por pantalla la cantidad de ahorros tras el primer, segundo y tercer años. Redondear cada cantidad a dos decimales."
   ]
  },
  {
   "cell_type": "markdown",
   "metadata": {},
   "source": [
    "\n",
    "**Formula Interes compuesto**\n",
    "\n",
    "$$\n",
    "Cf =   C ({1 +}\\frac{r}{100}) {^t}\n",
    "$$\n",
    "\n",
    "Donde:\n",
    "- Cf: Capital Final\n",
    "- C: Capital\n",
    "- r: interés o rédito\n",
    "- t: tiempo (en años)"
   ]
  },
  {
   "cell_type": "code",
   "execution_count": 6,
   "metadata": {},
   "outputs": [
    {
     "name": "stdout",
     "output_type": "stream",
     "text": [
      "1124.864\n"
     ]
    }
   ],
   "source": [
    "# Al final 1re año \n",
    "import math\n",
    "\n",
    "capital=1000\n",
    "interes=4\n",
    "tiempo=int(input(\"ingresar el año en el que deseas saber el capital final: \"))\n",
    "\n",
    "\n",
    "Capital_final= capital*  math.pow((1+(interes/100)), tiempo)\n",
    "print(Capital_final)"
   ]
  },
  {
   "cell_type": "code",
   "execution_count": 5,
   "metadata": {},
   "outputs": [
    {
     "name": "stdout",
     "output_type": "stream",
     "text": [
      "Después del primer año, los ahorros son: $1040.0\n",
      "Después del segundo año, los ahorros son: $1081.6\n",
      "Después del tercer año, los ahorros son: $1124.86\n"
     ]
    }
   ],
   "source": [
    "# Definir las variables\n",
    "cantidad_inicial = 1000\n",
    "tasa_interes = 0.04\n",
    "\n",
    "# Calcular ahorros después del primer, segundo y tercer año\n",
    "ahorros_primer_anio = cantidad_inicial * (1 + tasa_interes)\n",
    "ahorros_segundo_anio = ahorros_primer_anio * (1 + tasa_interes)\n",
    "ahorros_tercer_anio = ahorros_segundo_anio * (1 + tasa_interes)\n",
    "\n",
    "# Mostrar resultados\n",
    "print(f\"Después del primer año, los ahorros son: ${round(ahorros_primer_anio, 2)}\")\n",
    "print(f\"Después del segundo año, los ahorros son: ${round(ahorros_segundo_anio, 2)}\")\n",
    "print(f\"Después del tercer año, los ahorros son: ${round(ahorros_tercer_anio, 2)}\")"
   ]
  },
  {
   "cell_type": "code",
   "execution_count": 10,
   "metadata": {},
   "outputs": [
    {
     "name": "stdout",
     "output_type": "stream",
     "text": [
      "Resultado: 123.46\n",
      "Resultado: 123.46\n"
     ]
    }
   ],
   "source": [
    "valor = 123.456789\n",
    "\n",
    "# Formatear a 2 decimales en un string\n",
    "resultado = \"{:.2f}\".format(valor)\n",
    "\n",
    "print(\"Resultado:\", resultado)\n",
    "\n",
    "valor = 123.456789\n",
    "\n",
    "print(f\"Resultado: {valor:.2f}\")\n"
   ]
  },
  {
   "cell_type": "markdown",
   "metadata": {},
   "source": [
    "### 2.\n",
    "Escriba un programa que pida los coeficientes de una ecuación de segundo grado <code>(a x² + b x + c = 0)</code> y escriba la solución.\n",
    "\n",
    "Se recuerda que una ecuación de segundo grado puede no tener solución, tener una solución única, tener dos soluciones o que todos los números sean solución."
   ]
  },
  {
   "cell_type": "markdown",
   "metadata": {},
   "source": [
    "<img src='https://i.pinimg.com/originals/d3/f7/01/d3f701528ad56ce0f5a98d7c91722fd7.png'>"
   ]
  },
  {
   "cell_type": "markdown",
   "metadata": {},
   "source": [
    "Su programa debe indicar:\n",
    "- En caso la ecuación cuadrática tenga solución real, su programa debe brindar la solución\n",
    "- En caso su ecuación no tenga solución real, su programa debe brindar un mensaje que diga \"Ecuación no presenta solución real\""
   ]
  },
  {
   "cell_type": "code",
   "execution_count": null,
   "metadata": {},
   "outputs": [],
   "source": []
  }
 ],
 "metadata": {
  "kernelspec": {
   "display_name": "Python 3 (ipykernel)",
   "language": "python",
   "name": "python3"
  },
  "language_info": {
   "codemirror_mode": {
    "name": "ipython",
    "version": 3
   },
   "file_extension": ".py",
   "mimetype": "text/x-python",
   "name": "python",
   "nbconvert_exporter": "python",
   "pygments_lexer": "ipython3",
   "version": "3.10.13"
  }
 },
 "nbformat": 4,
 "nbformat_minor": 4
}
